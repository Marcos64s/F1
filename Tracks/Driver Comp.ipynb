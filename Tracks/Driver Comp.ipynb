{
 "cells": [
  {
   "cell_type": "code",
   "execution_count": null,
   "metadata": {},
   "outputs": [],
   "source": [
    "import fastf1 as ff1\n",
    "import numpy as np\n",
    "import matplotlib as mpl\n",
    "\n",
    "from matplotlib import pyplot as plt\n",
    "from matplotlib.collections import LineCollection\n",
    "\n",
    "import os"
   ]
  },
  {
   "cell_type": "code",
   "execution_count": null,
   "metadata": {},
   "outputs": [],
   "source": [
    "year = 2022\n",
    "wknd = 3\n",
    "ses = 'Q'\n",
    "path = f'Differences/{year}/{wknd}/{ses}/'\n",
    "if not os.path.exists(path):\n",
    "  os.makedirs(path)\n",
    "  print(\"Folder %s created!\" % path)\n",
    "else:\n",
    "  print(\"Folder %s already exists\" % path)"
   ]
  },
  {
   "cell_type": "code",
   "execution_count": null,
   "metadata": {},
   "outputs": [],
   "source": [
    "session = ff1.get_session(year, wknd, ses)\n",
    "weekend = session.event\n",
    "session.load()\n",
    "lap_fast = session.laps.pick_fastest()\n",
    "driver_fast = lap_fast.Driver\n",
    "\n",
    "\n",
    "# Get telemetry data\n",
    "x = lap_fast.telemetry['X']              # values for x-axis\n",
    "y = lap_fast.telemetry['Y']              # values for y-axis\n",
    "color_fast = lap_fast.telemetry['Speed']      # value to base color gradient on"
   ]
  },
  {
   "cell_type": "code",
   "execution_count": null,
   "metadata": {},
   "outputs": [],
   "source": [
    "points = np.array([x, y]).T.reshape(-1, 1, 2)\n",
    "segments = np.concatenate([points[:-1], points[1:]], axis=1)"
   ]
  },
  {
   "cell_type": "code",
   "execution_count": null,
   "metadata": {},
   "outputs": [],
   "source": [
    "las = session.drivers\n",
    "las.remove(lap_fast.DriverNumber)\n"
   ]
  },
  {
   "cell_type": "code",
   "execution_count": null,
   "metadata": {},
   "outputs": [],
   "source": [
    "colormap = mpl.colormaps['Reds']\n",
    "\n",
    "for i,driver in enumerate(las):\n",
    "    fig, ax = plt.subplots(sharex=True, sharey=True, figsize=(12, 6.75))\n",
    "\n",
    "    lap = session.laps.pick_driver(las[i])\n",
    "\n",
    "    driver = session.get_driver(las[i])['Abbreviation']\n",
    "    \n",
    "    color = np.subtract(color_fast,lap.pick_fastest().telemetry[\"Speed\"])\n",
    "\n",
    "    fig.suptitle(f'{session.event.OfficialEventName} \\n {driver_fast} vs {driver}', size=24, y=0.97)\n",
    "\n",
    "    # Adjust margins and turn of axis\n",
    "    plt.subplots_adjust(left=0.1, right=0.9, top=0.9, bottom=0.12)\n",
    "    ax.axis('off')\n",
    "\n",
    "\n",
    "    # After this, we plot the data itself.\n",
    "    # Create background track line\n",
    "    ax.plot(lap_fast.telemetry['X'], lap_fast.telemetry['Y'], color='black', linestyle='-', linewidth=16, zorder=0)\n",
    "\n",
    "    # Create a continuous norm to map from data points to colors\n",
    "    norm = plt.Normalize(color.min(), color.max())\n",
    "    lc = LineCollection(segments, cmap=colormap, norm=norm, linestyle='-', linewidth=5)\n",
    "\n",
    "    # Set the values used for colormapping\n",
    "    lc.set_array(color)\n",
    "\n",
    "    # Merge all line segments together\n",
    "    line = ax.add_collection(lc)\n",
    "\n",
    "\n",
    "    # Finally, we create a color bar as a legend.\n",
    "    cbaxes = fig.add_axes([0.25, 0.05, 0.5, 0.05])\n",
    "    normlegend = mpl.colors.Normalize(vmin=color.min(), vmax=color.max())\n",
    "    legend = mpl.colorbar.ColorbarBase(cbaxes, norm=normlegend, cmap=colormap, orientation=\"horizontal\")\n",
    "\n",
    "    plt.savefig(f'Differences/{year}/{wknd}/{ses}/{driver_fast} vs {driver}.png')\n",
    "    # Show the plot\n",
    "    plt.show()"
   ]
  }
 ],
 "metadata": {
  "kernelspec": {
   "display_name": "Python 3",
   "language": "python",
   "name": "python3"
  },
  "language_info": {
   "codemirror_mode": {
    "name": "ipython",
    "version": 3
   },
   "file_extension": ".py",
   "mimetype": "text/x-python",
   "name": "python",
   "nbconvert_exporter": "python",
   "pygments_lexer": "ipython3",
   "version": "3.11.4"
  },
  "orig_nbformat": 4
 },
 "nbformat": 4,
 "nbformat_minor": 2
}
